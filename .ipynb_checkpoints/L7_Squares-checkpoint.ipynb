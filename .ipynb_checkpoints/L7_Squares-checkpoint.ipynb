{
 "cells": [
  {
   "cell_type": "markdown",
   "metadata": {},
   "source": [
    "A square of squares\n",
    "You like building blocks. You especially like building blocks that are squares. And what you even like more, is to arrange them into a square of square building blocks!\n",
    "\n",
    "However, sometimes, you can't arrange them into a square. Instead, you end up with an ordinary rectangle! Those blasted things! If you just had a way to know, whether you're currently working in vain… Wait! That's it! You just have to check if your number of building blocks is a perfect square.\n",
    "\n",
    "Task\n",
    "Given an integral number, determine if it's a square number:\n",
    "\n",
    "In mathematics, a square number or perfect square is an integer that is the square of an integer; in other words, it is the product of some integer with itself.\n",
    "\n",
    "The tests will always use some integral number, so don't worry about that in dynamic typed languages.\n",
    "\n",
    "Examples\n",
    "is_square (-1) # => false\n",
    "is_square   0 # => true\n",
    "is_square   3 # => false\n",
    "is_square   4 # => true\n",
    "is_square  25 # => true\n",
    "is_square  26 # => false"
   ]
  },
  {
   "cell_type": "markdown",
   "metadata": {},
   "source": [
    "Tests:\n",
    "\n",
    "test.describe(\"is_square\")\n",
    "test.it(\"should work for some examples\")\n",
    "test.assert_equals(is_square(-1), False, \"-1: Negative numbers cannot be square numbers\")\n",
    "test.assert_equals(is_square( 0), True, \"0 is a square number\")\n",
    "test.assert_equals(is_square( 3), False, \"3 is not a square number\")\n",
    "test.assert_equals(is_square( 4), True, \"4 is a square number\")\n",
    "test.assert_equals(is_square(25), True, \"25 is a square number\")\n",
    "test.assert_equals(is_square(26), False, \"26 is not a square number\")\n"
   ]
  },
  {
   "cell_type": "code",
   "execution_count": 3,
   "metadata": {},
   "outputs": [],
   "source": [
    "def is_square(n):    \n",
    "    if n < 0:\n",
    "        return False\n",
    "    if n**.5 == int(n**.5):\n",
    "        return True\n",
    "    else:\n",
    "        return False\n"
   ]
  },
  {
   "cell_type": "code",
   "execution_count": 4,
   "metadata": {},
   "outputs": [
    {
     "data": {
      "text/plain": [
       "True"
      ]
     },
     "execution_count": 4,
     "metadata": {},
     "output_type": "execute_result"
    }
   ],
   "source": [
    "is_square(25)"
   ]
  }
 ],
 "metadata": {
  "kernelspec": {
   "display_name": "Python 3",
   "language": "python",
   "name": "python3"
  },
  "language_info": {
   "codemirror_mode": {
    "name": "ipython",
    "version": 3
   },
   "file_extension": ".py",
   "mimetype": "text/x-python",
   "name": "python",
   "nbconvert_exporter": "python",
   "pygments_lexer": "ipython3",
   "version": "3.6.5"
  }
 },
 "nbformat": 4,
 "nbformat_minor": 2
}
