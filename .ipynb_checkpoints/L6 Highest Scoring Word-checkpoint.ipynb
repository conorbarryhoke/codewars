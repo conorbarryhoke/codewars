{
 "cells": [
  {
   "cell_type": "code",
   "execution_count": 13,
   "metadata": {},
   "outputs": [],
   "source": [
    "#Highest scoring word\n",
    "\n",
    "alphabet = 'abcdefghijklmnopqrstuvwxyz'\n",
    "alpha_scores = {}\n",
    "for i in range(26):\n",
    "    alpha_scores[alphabet[i]] = i + 1\n",
    "    alpha_scores[alphabet[i].upper()]= i + 1\n",
    "     "
   ]
  },
  {
   "cell_type": "code",
   "execution_count": 28,
   "metadata": {},
   "outputs": [],
   "source": [
    "test_string = 'what time are we climbing up the volcano'"
   ]
  },
  {
   "cell_type": "code",
   "execution_count": 35,
   "metadata": {},
   "outputs": [],
   "source": [
    "def scorer(somestring):\n",
    "    scorz = 0\n",
    "    for c in somestring:\n",
    "        scorz += alpha_scores[c]\n",
    "    return scorz"
   ]
  },
  {
   "cell_type": "code",
   "execution_count": 30,
   "metadata": {},
   "outputs": [],
   "source": [
    "def high(x):\n",
    "    splitstring = x.split(' ')\n",
    "    return splitstring[[scorer(c) for c in splitstring].index(max([scorer(c) for c in splitstring]))]"
   ]
  },
  {
   "cell_type": "code",
   "execution_count": 31,
   "metadata": {},
   "outputs": [
    {
     "data": {
      "text/plain": [
       "'volcano'"
      ]
     },
     "execution_count": 31,
     "metadata": {},
     "output_type": "execute_result"
    }
   ],
   "source": [
    "high(test_string)"
   ]
  },
  {
   "cell_type": "code",
   "execution_count": 23,
   "metadata": {},
   "outputs": [
    {
     "data": {
      "text/plain": [
       "1"
      ]
     },
     "execution_count": 23,
     "metadata": {},
     "output_type": "execute_result"
    }
   ],
   "source": [
    "[1,9,1,1,9].index(9)"
   ]
  },
  {
   "cell_type": "code",
   "execution_count": null,
   "metadata": {},
   "outputs": [],
   "source": [
    "#Define scoring:\n",
    "alphabet = 'abcdefghijklmnopqrstuvwxyz'\n",
    "alpha_scores = {}\n",
    "for i in range(26):\n",
    "    alpha_scores[alphabet[i]] = i + 1\n",
    "    alpha_scores[alphabet[i].upper()]= i + 1\n",
    "\n",
    "#Create a scorer  \n",
    "def scorer(somestring):\n",
    "    scorz = 0\n",
    "    for c in somestring:\n",
    "        scorz += alpha_scores[c]\n",
    "    return scorz\n",
    "\n",
    "#Return max scoring word from a scored list\n",
    "def high(x):\n",
    "    splitstring = x.split(' ')\n",
    "    return splitstring[[scorer(c) for c in splitstring].index(max([scorer(c) for c in splitstring]))]"
   ]
  }
 ],
 "metadata": {
  "kernelspec": {
   "display_name": "Python 3",
   "language": "python",
   "name": "python3"
  },
  "language_info": {
   "codemirror_mode": {
    "name": "ipython",
    "version": 3
   },
   "file_extension": ".py",
   "mimetype": "text/x-python",
   "name": "python",
   "nbconvert_exporter": "python",
   "pygments_lexer": "ipython3",
   "version": "3.6.5"
  }
 },
 "nbformat": 4,
 "nbformat_minor": 2
}
