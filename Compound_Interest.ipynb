{
 "cells": [
  {
   "cell_type": "markdown",
   "metadata": {},
   "source": [
    "Mr. Scrooge has a sum of money 'P' that wants to invest, and he wants to know how many years 'Y' this sum has to be kept in the bank in order for this sum of money to amount to 'D'.\n",
    "\n",
    "The sum is kept for 'Y' years in the bank where interest 'I' is paid yearly, and the new sum is re-invested yearly after paying tax 'T'\n",
    "\n",
    "Note that the principal is not taxed but only the year's accrued interest"
   ]
  },
  {
   "cell_type": "markdown",
   "metadata": {},
   "source": [
    "Initial Test case:   \n",
    "  Let P be the Principal = 1000.00      \n",
    "  Let I be the Interest Rate = 0.05      \n",
    "  Let T be the Tax Rate = 0.18      \n",
    "  Let D be the Desired Sum = 1100.00\n",
    "\n",
    "\n",
    "After 1st Year -->  \n",
    "  P = 1041.00  \n",
    "After 2nd Year -->  \n",
    "  P = 1083.86  \n",
    "After 3rd Year -->  \n",
    "  P = 1128.30  "
   ]
  },
  {
   "cell_type": "code",
   "execution_count": 4,
   "metadata": {},
   "outputs": [
    {
     "data": {
      "text/plain": [
       "3"
      ]
     },
     "execution_count": 4,
     "metadata": {},
     "output_type": "execute_result"
    }
   ],
   "source": [
    "principal = 1000.00\n",
    "interest = .05\n",
    "tax = .18\n",
    "desired = 1100.00\n",
    "years = 0\n",
    "\n",
    "while principal < desired:\n",
    "    years += 1\n",
    "    principal = ((1-tax) * interest + 1)*principal\n",
    "years"
   ]
  },
  {
   "cell_type": "markdown",
   "metadata": {},
   "source": [
    "Thus Mr. Scrooge has to wait for 3 years for the initial pricipal to ammount to the desired sum.\n",
    "\n",
    "Your task is to complete the method provided and return the number of years 'Y' as a whole in order for Mr. Scrooge to get the desired sum.\n",
    "\n",
    "Assumptions : Assume that Desired Principal 'D' is always greater than the initial principal, however it is best to take into consideration that if the Desired Principal 'D' is equal to Principal 'P' this should return 0 Years."
   ]
  },
  {
   "cell_type": "code",
   "execution_count": 12,
   "metadata": {},
   "outputs": [],
   "source": [
    "#keep counting years while reinvestment is low\n",
    "def calculate_years(principal, interest, tax, desired):\n",
    "    years = 0\n",
    "    while principal < desired:\n",
    "        years += 1\n",
    "        principal = round(((1-tax) * interest + 1)*principal, 2)  #need to round since money is stored only to 2 digits\n",
    "    return years\n",
    "    "
   ]
  },
  {
   "cell_type": "markdown",
   "metadata": {},
   "source": [
    "Tests  \n",
    "1000, 0.05, 0.18, 1100 expect 3  \n",
    "1000,0.01625,0.18,1200 expect 14  \n",
    "1000,0.05,0.18,1000 expect 0"
   ]
  },
  {
   "cell_type": "code",
   "execution_count": 13,
   "metadata": {},
   "outputs": [
    {
     "data": {
      "text/plain": [
       "14"
      ]
     },
     "execution_count": 13,
     "metadata": {},
     "output_type": "execute_result"
    }
   ],
   "source": [
    "calculate_years(1000,0.01625,0.18,1200)"
   ]
  },
  {
   "cell_type": "code",
   "execution_count": null,
   "metadata": {},
   "outputs": [],
   "source": []
  }
 ],
 "metadata": {
  "kernelspec": {
   "display_name": "Python 3",
   "language": "python",
   "name": "python3"
  },
  "language_info": {
   "codemirror_mode": {
    "name": "ipython",
    "version": 3
   },
   "file_extension": ".py",
   "mimetype": "text/x-python",
   "name": "python",
   "nbconvert_exporter": "python",
   "pygments_lexer": "ipython3",
   "version": "3.6.5"
  }
 },
 "nbformat": 4,
 "nbformat_minor": 2
}
