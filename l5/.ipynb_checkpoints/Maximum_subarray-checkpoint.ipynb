{
 "cells": [
  {
   "cell_type": "markdown",
   "metadata": {},
   "source": [
    "The maximum sum subarray problem consists in finding the maximum sum of a contiguous subsequence in an array or list of integers:\n",
    "\n",
    "`maxSequence([-2, 1, -3, 4, -1, 2, 1, -5, 4])\n",
    "#should be 6: [4, -1, 2, 1]  `\n",
    "\n",
    "Easy case is when the list is made up of only positive numbers and the maximum sum is the sum of the whole array. If the list is made up of only negative numbers, return 0 instead.\n",
    "\n",
    "Empty list is considered to have zero greatest sum. Note that the empty list or array is also a valid sublist/subarray.\n",
    "\n"
   ]
  },
  {
   "cell_type": "code",
   "execution_count": 26,
   "metadata": {},
   "outputs": [
    {
     "data": {
      "text/plain": [
       "10"
      ]
     },
     "execution_count": 26,
     "metadata": {},
     "output_type": "execute_result"
    }
   ],
   "source": [
    "test_list = [8,-2, 1, -3, 4, -1, 2, 1, -5, 4]\n",
    "len(test_list)"
   ]
  },
  {
   "cell_type": "code",
   "execution_count": 40,
   "metadata": {},
   "outputs": [],
   "source": [
    "#Attempt 1 - didn't work\n",
    "def maxSequence(arr):\n",
    "    list_length = len(arr)\n",
    "    best_sum = sum(arr)\n",
    "    #for each sequence of length i\n",
    "    for i in range(list_length):\n",
    "        \n",
    "        #step through the list\n",
    "        for j in range(list_length +2):\n",
    "            print('    ',arr[j-1:i-1])\n",
    "            if sum(arr[j-1:i-1]) > best_sum:\n",
    "                best_sum = sum(arr[j-1:i-1])\n",
    "    return best_sum\n",
    "        \n",
    "    \n"
   ]
  },
  {
   "cell_type": "code",
   "execution_count": 75,
   "metadata": {},
   "outputs": [],
   "source": [
    "#Attempt 2 - does work, but feels inefficient with all the empty lists\n",
    "def maxSequence(arr):\n",
    "    list_length = len(arr)\n",
    "    best_sum = sum(arr)\n",
    "    #starting at element i\n",
    "    for i in range(0,list_length):\n",
    "        \n",
    "        #find the sum of each list of length j\n",
    "        for j in range(list_length+1):\n",
    "            if sum(arr[i:j]) > best_sum:\n",
    "                best_sum = sum(arr[i:j])\n",
    "    return best_sum"
   ]
  },
  {
   "cell_type": "code",
   "execution_count": 77,
   "metadata": {},
   "outputs": [],
   "source": [
    "#maxSequence(test_list)"
   ]
  },
  {
   "cell_type": "code",
   "execution_count": 79,
   "metadata": {},
   "outputs": [
    {
     "data": {
      "text/plain": [
       "[]"
      ]
     },
     "execution_count": 79,
     "metadata": {},
     "output_type": "execute_result"
    }
   ],
   "source": [
    "test_list[10:5]"
   ]
  },
  {
   "cell_type": "code",
   "execution_count": 84,
   "metadata": {},
   "outputs": [],
   "source": [
    "#This works, but still seem to be missing something about not needing to know the components\n",
    "#of the actual running sequence\n",
    "def maxSequence(arr):\n",
    "    list_length = len(arr)\n",
    "    best_sum = sum(arr)\n",
    "    #starting at element i\n",
    "    for i in range(0,list_length):\n",
    "        \n",
    "        #find the sum of each list of length j\n",
    "        for j in range(list_length+1-i):\n",
    "            \n",
    "            #ensures each array is only checked once; avoids lists where j<i as in above\n",
    "            print('  ',arr[i:(i+j)] )\n",
    "            if sum(arr[i:(i+j)]) > best_sum:\n",
    "                best_sum = sum(arr[i:(i+j)])\n",
    "    return best_sum"
   ]
  },
  {
   "cell_type": "code",
   "execution_count": 85,
   "metadata": {},
   "outputs": [
    {
     "name": "stdout",
     "output_type": "stream",
     "text": [
      "   []\n",
      "   [8]\n",
      "   [8, -2]\n",
      "   [8, -2, 1]\n",
      "   [8, -2, 1, -3]\n",
      "   [8, -2, 1, -3, 4]\n",
      "   [8, -2, 1, -3, 4, -1]\n",
      "   [8, -2, 1, -3, 4, -1, 2]\n",
      "   [8, -2, 1, -3, 4, -1, 2, 1]\n",
      "   [8, -2, 1, -3, 4, -1, 2, 1, -5]\n",
      "   [8, -2, 1, -3, 4, -1, 2, 1, -5, 4]\n",
      "   []\n",
      "   [-2]\n",
      "   [-2, 1]\n",
      "   [-2, 1, -3]\n",
      "   [-2, 1, -3, 4]\n",
      "   [-2, 1, -3, 4, -1]\n",
      "   [-2, 1, -3, 4, -1, 2]\n",
      "   [-2, 1, -3, 4, -1, 2, 1]\n",
      "   [-2, 1, -3, 4, -1, 2, 1, -5]\n",
      "   [-2, 1, -3, 4, -1, 2, 1, -5, 4]\n",
      "   []\n",
      "   [1]\n",
      "   [1, -3]\n",
      "   [1, -3, 4]\n",
      "   [1, -3, 4, -1]\n",
      "   [1, -3, 4, -1, 2]\n",
      "   [1, -3, 4, -1, 2, 1]\n",
      "   [1, -3, 4, -1, 2, 1, -5]\n",
      "   [1, -3, 4, -1, 2, 1, -5, 4]\n",
      "   []\n",
      "   [-3]\n",
      "   [-3, 4]\n",
      "   [-3, 4, -1]\n",
      "   [-3, 4, -1, 2]\n",
      "   [-3, 4, -1, 2, 1]\n",
      "   [-3, 4, -1, 2, 1, -5]\n",
      "   [-3, 4, -1, 2, 1, -5, 4]\n",
      "   []\n",
      "   [4]\n",
      "   [4, -1]\n",
      "   [4, -1, 2]\n",
      "   [4, -1, 2, 1]\n",
      "   [4, -1, 2, 1, -5]\n",
      "   [4, -1, 2, 1, -5, 4]\n",
      "   []\n",
      "   [-1]\n",
      "   [-1, 2]\n",
      "   [-1, 2, 1]\n",
      "   [-1, 2, 1, -5]\n",
      "   [-1, 2, 1, -5, 4]\n",
      "   []\n",
      "   [2]\n",
      "   [2, 1]\n",
      "   [2, 1, -5]\n",
      "   [2, 1, -5, 4]\n",
      "   []\n",
      "   [1]\n",
      "   [1, -5]\n",
      "   [1, -5, 4]\n",
      "   []\n",
      "   [-5]\n",
      "   [-5, 4]\n",
      "   []\n",
      "   [4]\n"
     ]
    },
    {
     "data": {
      "text/plain": [
       "10"
      ]
     },
     "execution_count": 85,
     "metadata": {},
     "output_type": "execute_result"
    }
   ],
   "source": [
    "maxSequence(test_list)"
   ]
  },
  {
   "cell_type": "code",
   "execution_count": null,
   "metadata": {},
   "outputs": [],
   "source": []
  }
 ],
 "metadata": {
  "kernelspec": {
   "display_name": "Python 3",
   "language": "python",
   "name": "python3"
  },
  "language_info": {
   "codemirror_mode": {
    "name": "ipython",
    "version": 3
   },
   "file_extension": ".py",
   "mimetype": "text/x-python",
   "name": "python",
   "nbconvert_exporter": "python",
   "pygments_lexer": "ipython3",
   "version": "3.6.5"
  }
 },
 "nbformat": 4,
 "nbformat_minor": 2
}
