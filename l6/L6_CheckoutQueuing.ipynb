{
 "cells": [
  {
   "cell_type": "markdown",
   "metadata": {},
   "source": [
    "There is a queue for the self-checkout tills at the supermarket. Your task is write a function to calculate the total time required for all the customers to check out!\n",
    "\n",
    "The function has two input variables:\n",
    "\n",
    "customers: an array (list in python) of positive integers representing the queue. Each integer represents a customer, and its value is the amount of time they require to check out.  \n",
    "\n",
    "n: a positive integer, the number of checkout tills.\n",
    "The function should return an integer, the total time required.\n",
    "\n",
    "EDIT: A lot of people have been confused in the comments. To try to prevent any more confusion:\n",
    "\n",
    "There is only ONE queue, and\n",
    "The order of the queue NEVER changes, and\n",
    "Assume that the front person in the queue (i.e. the first element in the array/list) proceeds to a till as soon as it becomes free.\n",
    "The diagram on the wiki page I linked to at the bottom of the description may be useful.\n",
    "So, for example:\n",
    "\n",
    "queue_time([5,3,4], 1)\n",
    "#should return 12\n",
    "#because when n=1, the total time is just the sum of the times\n",
    "\n",
    "queue_time([10,2,3,3], 2)\n",
    "#should return 10 because here n=2 and the 2nd, 3rd, and 4th people in the queue finish before the 1st person has finished.\n",
    "\n",
    "queue_time([2,3,10], 2)\n",
    "#should return 12\n",
    "N.B. You should assume that all the test input will be valid, as specified above.\n",
    "\n",
    "P.S. The situation in this kata can be likened to the more-computer-science-related idea of a thread pool, with relation to running multiple processes at the same time: https://en.wikipedia.org/wiki/Thread_pool"
   ]
  },
  {
   "cell_type": "code",
   "execution_count": 1,
   "metadata": {},
   "outputs": [],
   "source": [
    "import pandas as pd"
   ]
  },
  {
   "cell_type": "code",
   "execution_count": 2,
   "metadata": {},
   "outputs": [],
   "source": [
    "customers = [10,2,3,3]\n",
    "n = 2"
   ]
  },
  {
   "cell_type": "code",
   "execution_count": 31,
   "metadata": {},
   "outputs": [
    {
     "data": {
      "text/plain": [
       "{0: 10, 1: 8}"
      ]
     },
     "execution_count": 31,
     "metadata": {},
     "output_type": "execute_result"
    }
   ],
   "source": [
    "#Test set up\n",
    "queues={}\n",
    "for i in range(n):\n",
    "    queues[i] = 0\n",
    "    \n",
    "for customer in customers:\n",
    "    found_q = False\n",
    "    for q in queues:\n",
    "        if queues[q] == min([queues[i] for i in queues]):\n",
    "            queues[q] = queues[q] + customer\n",
    "            found_q = True\n",
    "            break\n",
    "        if found_q:\n",
    "            break\n",
    "        \n",
    "            \n",
    "queues            \n",
    "    "
   ]
  },
  {
   "cell_type": "code",
   "execution_count": 32,
   "metadata": {},
   "outputs": [],
   "source": [
    "def queue_time(customers, n):\n",
    "    queues={}\n",
    "    #create an n sized dictionary with empty tills\n",
    "    \n",
    "    for i in range(n):\n",
    "        queues[i] = 0\n",
    "    #go through each customer, adding them to whatever till has the least time on it so far, i.e. the minimum\n",
    "    \n",
    "    for customer in customers:\n",
    "        found_q = False\n",
    "        for q in queues:\n",
    "            if queues[q] == min([queues[i] for i in queues]):\n",
    "                queues[q] = queues[q] + customer\n",
    "                found_q = True\n",
    "                break\n",
    "            if found_q:\n",
    "                break\n",
    "    return max([queues[i] for i in queues])\n",
    "        \n",
    "    \n"
   ]
  },
  {
   "cell_type": "code",
   "execution_count": 33,
   "metadata": {},
   "outputs": [
    {
     "data": {
      "text/plain": [
       "12"
      ]
     },
     "execution_count": 33,
     "metadata": {},
     "output_type": "execute_result"
    }
   ],
   "source": [
    "queue_time([2,3,10], 2)"
   ]
  },
  {
   "cell_type": "code",
   "execution_count": null,
   "metadata": {},
   "outputs": [],
   "source": []
  }
 ],
 "metadata": {
  "kernelspec": {
   "display_name": "Python 3",
   "language": "python",
   "name": "python3"
  },
  "language_info": {
   "codemirror_mode": {
    "name": "ipython",
    "version": 3
   },
   "file_extension": ".py",
   "mimetype": "text/x-python",
   "name": "python",
   "nbconvert_exporter": "python",
   "pygments_lexer": "ipython3",
   "version": "3.6.5"
  }
 },
 "nbformat": 4,
 "nbformat_minor": 2
}
