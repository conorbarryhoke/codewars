{
 "cells": [
  {
   "cell_type": "markdown",
   "metadata": {},
   "source": [
    "For building the encrypted string:  \n",
    "Take every 2nd char from the string, then the other chars, that are not every 2nd char, and concat   them as new String.  \n",
    "Do this n times!  \n",
    "\n",
    "Examples:"
   ]
  },
  {
   "cell_type": "markdown",
   "metadata": {},
   "source": [
    "```\"This is a test!\", 1 -> \"hsi  etTi sats!\"\n",
    "\"This is a test!\", 2 -> \"hsi  etTi sats!\" -> \"s eT ashi tist!\"```"
   ]
  },
  {
   "cell_type": "markdown",
   "metadata": {},
   "source": [
    "For both methods:  \n",
    "If the input-string is null or empty return exactly this value!  \n",
    "If n is <= 0 then return the input text."
   ]
  },
  {
   "cell_type": "code",
   "execution_count": 208,
   "metadata": {},
   "outputs": [
    {
     "data": {
      "text/plain": [
       "15"
      ]
     },
     "execution_count": 208,
     "metadata": {},
     "output_type": "execute_result"
    }
   ],
   "source": [
    "test_string = 'This is a test!'\n",
    "len(test_string)    "
   ]
  },
  {
   "cell_type": "code",
   "execution_count": 209,
   "metadata": {},
   "outputs": [],
   "source": [
    "def encrypt(tpassext, n):\n",
    "    for i in range(n):\n",
    "        newstring=[]\n",
    "        for char in range(1,len(tpassext), 2):\n",
    "            newstring.append(tpassext[char])\n",
    "        for char in range(0,len(tpassext),2):\n",
    "            newstring.append(tpassext[char])\n",
    "        tpassext = ''.join(newstring)\n",
    "    \n",
    "    return tpassext\n"
   ]
  },
  {
   "cell_type": "code",
   "execution_count": 210,
   "metadata": {
    "scrolled": true
   },
   "outputs": [
    {
     "data": {
      "text/plain": [
       "' Tah itse sits!'"
      ]
     },
     "execution_count": 210,
     "metadata": {},
     "output_type": "execute_result"
    }
   ],
   "source": [
    "encrypt(test_string,7)"
   ]
  },
  {
   "cell_type": "code",
   "execution_count": 211,
   "metadata": {},
   "outputs": [],
   "source": [
    "#From the tests, it looks like the mapping pattern repeats on multiples of 4"
   ]
  },
  {
   "cell_type": "code",
   "execution_count": 428,
   "metadata": {},
   "outputs": [],
   "source": [
    "def decrypt(encrypted_text, n):\n",
    "    try: \n",
    "        curl = len(encrypted_text)\n",
    "    except:\n",
    "        return encrypted_text\n",
    "    if n % 4 == 0 or n <=0:\n",
    "        return encrypted_text\n",
    "    else:\n",
    "        its = n%4\n",
    "\n",
    "    for i in range(its):\n",
    "\n",
    "        newstring=['.' for i in range(curl)]\n",
    "        for char in range(0,int(curl/2)+1*(curl%2)):\n",
    "            newstring[char*2] = (encrypted_text[char+int(curl/2)-1*(curl%2)])\n",
    "        for char in range(0,int(curl/2)):\n",
    "            newstring[char*2+1]= encrypted_text[char]\n",
    "        encrypted_text = ''.join(newstring)\n",
    "\n",
    "    return encrypted_text\n",
    "        "
   ]
  },
  {
   "cell_type": "code",
   "execution_count": 429,
   "metadata": {},
   "outputs": [
    {
     "data": {
      "text/plain": [
       "'This kata is very interesting!'"
      ]
     },
     "execution_count": 429,
     "metadata": {},
     "output_type": "execute_result"
    }
   ],
   "source": [
    "\n",
    "decrypt(\"hskt svr neetn!Ti aai eyitrsig\", 1)"
   ]
  },
  {
   "cell_type": "code",
   "execution_count": 349,
   "metadata": {},
   "outputs": [
    {
     "data": {
      "text/plain": [
       "3"
      ]
     },
     "execution_count": 349,
     "metadata": {},
     "output_type": "execute_result"
    }
   ],
   "source": [
    "#Couldn't get this one. Fails about 10% of cases, presumably due to mad use of % in iterables."
   ]
  }
 ],
 "metadata": {
  "kernelspec": {
   "display_name": "Python 3",
   "language": "python",
   "name": "python3"
  },
  "language_info": {
   "codemirror_mode": {
    "name": "ipython",
    "version": 3
   },
   "file_extension": ".py",
   "mimetype": "text/x-python",
   "name": "python",
   "nbconvert_exporter": "python",
   "pygments_lexer": "ipython3",
   "version": "3.6.5"
  }
 },
 "nbformat": 4,
 "nbformat_minor": 2
}
