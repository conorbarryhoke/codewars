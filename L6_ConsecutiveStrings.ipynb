{
 "cells": [
  {
   "cell_type": "markdown",
   "metadata": {},
   "source": [
    "You are given an array strarr of strings and an integer k. Your task is to return the first longest string consisting of k consecutive strings taken in the array.  \n",
    "\n",
    "#Example: longest_consec([\"zone\", \"abigail\", \"theta\", \"form\", \"libe\", \"zas\", \"theta\", \"abigail\"], 2) --> \"abigailtheta\"  \n",
    "\n",
    "n being the length of the string array,   \n",
    " if n = 0 or k > n or k <= 0 return \"\".  "
   ]
  },
  {
   "cell_type": "code",
   "execution_count": 11,
   "metadata": {},
   "outputs": [
    {
     "data": {
      "text/plain": [
       "'abigailtheta'"
      ]
     },
     "execution_count": 11,
     "metadata": {},
     "output_type": "execute_result"
    }
   ],
   "source": [
    "strings_list = [\"zone\", \"abigail\", \"theta\", \"form\", \"libe\", \"zas\", \"theta\", \"abigail\"]\n",
    "n = 2\n",
    "cur_concat = []\n",
    "next_concat = []\n",
    "\n",
    "start_string = strings_list[0] + strings_list[1]\n",
    "for i in range(1, len(strings_list)-n+1):\n",
    "    if len(strings_list[i] + strings_list[i+1]) > len(start_string):\n",
    "        start_string = strings_list[i] + strings_list[i+1]\n",
    "\n",
    "start_string\n",
    "    "
   ]
  },
  {
   "cell_type": "markdown",
   "metadata": {},
   "source": [
    "tests  \n",
    "testing(longest_consec([\"zone\", \"abigail\", \"theta\", \"form\", \"libe\", \"zas\"], 2), \"abigailtheta\")  \n",
    "testing(longest_consec([\"ejjjjmmtthh\", \"zxxuueeg\", \"aanlljrrrxx\", \"dqqqaaabbb\", \"oocccffuucccjjjkkkjyyyeehh\"], 1), \"oocccffuucccjjjkkkjyyyeehh\")  \n",
    "testing(longest_consec([], 3), \"\")  \n",
    "testing(longest_consec([\"itvayloxrp\",\"wkppqsztdkmvcuwvereiupccauycnjutlv\",\"vweqilsfytihvrzlaodfixoyxvyuyvgpck\"], 2), \"wkppqsztdkmvcuwvereiupccauycnjutlvvweqilsfytihvrzlaodfixoyxvyuyvgpck\")  \n",
    "testing(longest_consec([\"wlwsasphmxx\",\"owiaxujylentrklctozmymu\",\"wpgozvxxiu\"], 2), \"wlwsasphmxxowiaxujylentrklctozmymu\")  \n",
    "\n",
    "testing(longest_consec([\"zone\", \"abigail\", \"theta\", \"form\", \"libe\", \"zas\"], -2), \"\")  \n",
    "testing(longest_consec([\"it\",\"wkppv\",\"ixoyx\", \"3452\", \"zzzzzzzzzzzz\"], 3), \"ixoyx3452zzzzzzzzzzzz\")  \n",
    "testing(longest_consec([\"it\",\"wkppv\",\"ixoyx\", \"3452\", \"zzzzzzzzzzzz\"], 15), \"\")  \n",
    "testing(longest_consec([\"it\",\"wkppv\",\"ixoyx\", \"3452\", \"zzzzzzzzzzzz\"], 0), \"\")  "
   ]
  },
  {
   "cell_type": "code",
   "execution_count": 59,
   "metadata": {},
   "outputs": [],
   "source": [
    "def longest_consec(strarr, k):\n",
    "    start_string = ''\n",
    "    if len(strarr) == 0 or k > len(strarr) or k<= 0:\n",
    "        return ''\n",
    "    else:\n",
    "        for element in range(0, k):\n",
    "            start_string = start_string + strarr[element]\n",
    "        for i in range(1, len(strarr)-n+1):\n",
    "            if len(strarr[i] + strarr[i+1]) > len(start_string):\n",
    "                start_string = strarr[i] + strarr[i+1]\n",
    "        return start_string\n",
    "    "
   ]
  },
  {
   "cell_type": "code",
   "execution_count": 60,
   "metadata": {},
   "outputs": [
    {
     "data": {
      "text/plain": [
       "5"
      ]
     },
     "execution_count": 60,
     "metadata": {},
     "output_type": "execute_result"
    }
   ],
   "source": [
    "len([\"it\",\"wkppv\",\"ixoyx\", \"3452\", \"zzzzzzzzzzzz\"])"
   ]
  },
  {
   "cell_type": "code",
   "execution_count": 61,
   "metadata": {},
   "outputs": [
    {
     "data": {
      "text/plain": [
       "'wlwsasphmxxowiaxujylentrklctozmymu'"
      ]
     },
     "execution_count": 61,
     "metadata": {},
     "output_type": "execute_result"
    }
   ],
   "source": [
    "longest_consec([\"wlwsasphmxx\",\"owiaxujylentrklctozmymu\",\"wpgozvxxiu\"], 2)"
   ]
  },
  {
   "cell_type": "code",
   "execution_count": null,
   "metadata": {},
   "outputs": [],
   "source": []
  }
 ],
 "metadata": {
  "kernelspec": {
   "display_name": "Python 3",
   "language": "python",
   "name": "python3"
  },
  "language_info": {
   "codemirror_mode": {
    "name": "ipython",
    "version": 3
   },
   "file_extension": ".py",
   "mimetype": "text/x-python",
   "name": "python",
   "nbconvert_exporter": "python",
   "pygments_lexer": "ipython3",
   "version": "3.6.5"
  }
 },
 "nbformat": 4,
 "nbformat_minor": 2
}
