{
 "cells": [
  {
   "cell_type": "markdown",
   "metadata": {},
   "source": [
    "Trolls are attacking your comment section!\n",
    "\n",
    "A common way to deal with this situation is to remove all of the vowels from the trolls' comments, neutralizing the threat.\n",
    "\n",
    "Your task is to write a function that takes a string and return a new string with all vowels removed.\n",
    "\n",
    "For example, the string \"This website is for losers LOL!\" would become \"Ths wbst s fr lsrs LL!\".\n",
    "\n",
    "Note: for this kata y isn't considered a vowel.\n",
    "\n"
   ]
  },
  {
   "cell_type": "code",
   "execution_count": 1,
   "metadata": {},
   "outputs": [],
   "source": [
    "def disemvowel(string):\n",
    "    return ''.join([i for i in string if i.lower() not in 'aeiou'])\n"
   ]
  },
  {
   "cell_type": "code",
   "execution_count": 2,
   "metadata": {},
   "outputs": [],
   "source": [
    "test_string = \"This website is for losers LOL!\""
   ]
  },
  {
   "cell_type": "code",
   "execution_count": 3,
   "metadata": {},
   "outputs": [
    {
     "data": {
      "text/plain": [
       "'Ths wbst s fr lsrs LL!'"
      ]
     },
     "execution_count": 3,
     "metadata": {},
     "output_type": "execute_result"
    }
   ],
   "source": [
    "disemvowel(test_string)"
   ]
  },
  {
   "cell_type": "code",
   "execution_count": 7,
   "metadata": {},
   "outputs": [],
   "source": [
    "#see also translate(None, \"aeiouAEIOU\") method"
   ]
  }
 ],
 "metadata": {
  "kernelspec": {
   "display_name": "Python 3",
   "language": "python",
   "name": "python3"
  },
  "language_info": {
   "codemirror_mode": {
    "name": "ipython",
    "version": 3
   },
   "file_extension": ".py",
   "mimetype": "text/x-python",
   "name": "python",
   "nbconvert_exporter": "python",
   "pygments_lexer": "ipython3",
   "version": "3.6.5"
  }
 },
 "nbformat": 4,
 "nbformat_minor": 2
}
