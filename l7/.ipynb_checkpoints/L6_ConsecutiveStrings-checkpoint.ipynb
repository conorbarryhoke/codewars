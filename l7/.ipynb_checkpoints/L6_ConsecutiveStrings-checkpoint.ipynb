{
 "cells": [
  {
   "cell_type": "markdown",
   "metadata": {},
   "source": [
    "You are given an array strarr of strings and an integer k. Your task is to return the first longest string consisting of k consecutive strings taken in the array.  \n",
    "\n",
    "#Example: longest_consec([\"zone\", \"abigail\", \"theta\", \"form\", \"libe\", \"zas\", \"theta\", \"abigail\"], 2) --> \"abigailtheta\"  \n",
    "\n",
    "n being the length of the string array,   \n",
    " if n = 0 or k > n or k <= 0 return \"\".  "
   ]
  },
  {
   "cell_type": "code",
   "execution_count": 1,
   "metadata": {},
   "outputs": [
    {
     "data": {
      "text/plain": [
       "'abigailtheta'"
      ]
     },
     "execution_count": 1,
     "metadata": {},
     "output_type": "execute_result"
    }
   ],
   "source": [
    "strings_list = [\"zone\", \"abigail\", \"theta\", \"form\", \"libe\", \"zas\", \"theta\", \"abigail\"]\n",
    "n = 2\n",
    "cur_concat = []\n",
    "next_concat = []\n",
    "\n",
    "start_string = strings_list[0] + strings_list[1]\n",
    "for i in range(1, len(strings_list)-n+1):\n",
    "    if len(strings_list[i] + strings_list[i+1]) > len(start_string):\n",
    "        start_string = strings_list[i] + strings_list[i+1]\n",
    "\n",
    "start_string\n",
    "    "
   ]
  },
  {
   "cell_type": "markdown",
   "metadata": {},
   "source": [
    "tests  \n",
    "testing(longest_consec([\"zone\", \"abigail\", \"theta\", \"form\", \"libe\", \"zas\"], 2), \"abigailtheta\")  \n",
    "testing(longest_consec([\"ejjjjmmtthh\", \"zxxuueeg\", \"aanlljrrrxx\", \"dqqqaaabbb\", \"oocccffuucccjjjkkkjyyyeehh\"], 1), \"oocccffuucccjjjkkkjyyyeehh\")  \n",
    "testing(longest_consec([], 3), \"\")  \n",
    "testing(longest_consec([\"itvayloxrp\",\"wkppqsztdkmvcuwvereiupccauycnjutlv\",\"vweqilsfytihvrzlaodfixoyxvyuyvgpck\"], 2), \"wkppqsztdkmvcuwvereiupccauycnjutlvvweqilsfytihvrzlaodfixoyxvyuyvgpck\")  \n",
    "testing(longest_consec([\"wlwsasphmxx\",\"owiaxujylentrklctozmymu\",\"wpgozvxxiu\"], 2), \"wlwsasphmxxowiaxujylentrklctozmymu\")  \n",
    "\n",
    "testing(longest_consec([\"zone\", \"abigail\", \"theta\", \"form\", \"libe\", \"zas\"], -2), \"\")  \n",
    "testing(longest_consec([\"it\",\"wkppv\",\"ixoyx\", \"3452\", \"zzzzzzzzzzzz\"], 3), \"ixoyx3452zzzzzzzzzzzz\")  \n",
    "testing(longest_consec([\"it\",\"wkppv\",\"ixoyx\", \"3452\", \"zzzzzzzzzzzz\"], 15), \"\")  \n",
    "testing(longest_consec([\"it\",\"wkppv\",\"ixoyx\", \"3452\", \"zzzzzzzzzzzz\"], 0), \"\")  "
   ]
  },
  {
   "cell_type": "code",
   "execution_count": 117,
   "metadata": {},
   "outputs": [],
   "source": [
    "def longest_consec(strarr, k):\n",
    "    start_string = ''\n",
    "    #avoid failure condition\n",
    "    \n",
    "    if len(strarr) == 0 or k > len(strarr) or k<= 0:\n",
    "        return ''\n",
    "    else:\n",
    "        \n",
    "        for i in range(1,len(strarr)+1):\n",
    "            newstring=''\n",
    "            check = 0\n",
    "            #try to append element number j+i.  error will exit loop \n",
    "            try:\n",
    "                for j in range(k):\n",
    "                    newstring = newstring + (strarr[i+j-1])\n",
    "            except:\n",
    "                pass\n",
    "            if len(newstring)>len(start_string):\n",
    "                start_string = newstring\n",
    "    return start_string\n",
    "\n",
    "\n",
    "                "
   ]
  },
  {
   "cell_type": "code",
   "execution_count": 118,
   "metadata": {},
   "outputs": [
    {
     "name": "stdout",
     "output_type": "stream",
     "text": [
      "ejjjjmmtthh\n",
      "zxxuueeg\n",
      "aanlljrrrxx\n",
      "dqqqaaabbb\n",
      "oocccffuucccjjjkkkjyyyeehh\n"
     ]
    },
    {
     "data": {
      "text/plain": [
       "'oocccffuucccjjjkkkjyyyeehh'"
      ]
     },
     "execution_count": 118,
     "metadata": {},
     "output_type": "execute_result"
    }
   ],
   "source": [
    "longest_consec([\"ejjjjmmtthh\", \"zxxuueeg\", \"aanlljrrrxx\", \"dqqqaaabbb\", \"oocccffuucccjjjkkkjyyyeehh\"], 1)"
   ]
  },
  {
   "cell_type": "code",
   "execution_count": null,
   "metadata": {},
   "outputs": [],
   "source": [
    "#best methods use string.join[number:number+k]"
   ]
  }
 ],
 "metadata": {
  "kernelspec": {
   "display_name": "Python 3",
   "language": "python",
   "name": "python3"
  },
  "language_info": {
   "codemirror_mode": {
    "name": "ipython",
    "version": 3
   },
   "file_extension": ".py",
   "mimetype": "text/x-python",
   "name": "python",
   "nbconvert_exporter": "python",
   "pygments_lexer": "ipython3",
   "version": "3.6.5"
  }
 },
 "nbformat": 4,
 "nbformat_minor": 2
}
