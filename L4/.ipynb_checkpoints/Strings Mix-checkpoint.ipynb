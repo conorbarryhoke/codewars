{
 "cells": [
  {
   "cell_type": "markdown",
   "metadata": {},
   "source": [
    "## Strings Mix\n",
    "https://www.codewars.com/kata/strings-mix/train/python"
   ]
  },
  {
   "cell_type": "code",
   "execution_count": 206,
   "metadata": {},
   "outputs": [],
   "source": [
    "#STILL OPEN"
   ]
  },
  {
   "cell_type": "markdown",
   "metadata": {},
   "source": [
    "Given two strings s1 and s2, we want to visualize how different the two strings are. We will only take into account the lowercase letters (a to z). First let us count the frequency of each lowercase letters in s1 and s2."
   ]
  },
  {
   "cell_type": "markdown",
   "metadata": {},
   "source": [
    "s1 = 'A aaaa bb c\" '\n",
    "\n",
    "s2 = \"& aaa bbb c d\"  \n",
    "\n",
    "s1 has 4 'a', 2 'b', 1 'c'  \n",
    "\n",
    "s2 has 3 'a', 3 'b', 1 'c', 1 'd'"
   ]
  },
  {
   "cell_type": "markdown",
   "metadata": {},
   "source": [
    "So the maximum for 'a' in s1 and s2 is 4 from s1; the maximum for 'b' is 3 from s2. In the following we will not consider letters when the maximum of their occurrences is less than or equal to 1.\n",
    "\n",
    "We can resume the differences between s1 and s2 in the following string: \"1:aaaa/2:bbb\" where 1 in 1:aaaa stands for string s1 and aaaa because the maximum for a is 4. In the same manner 2:bbb stands for string s2 and bbb because the maximum for b is 3.\n",
    "\n",
    "The task is to produce a string in which each lowercase letters of s1 or s2 appears as many times as its maximum if this maximum is strictly greater than 1; these letters will be prefixed by the number of the string where they appear with their maximum value and :. If the maximum is in s1 as well as in s2 the prefix is =:.\n",
    "\n",
    "In the result, substrings (a substring is for example 2:nnnnn or 1:hhh; it contains the prefix) will be in decreasing order of their length and when they have the same length sorted in ascending lexicographic order (letters and digits - more precisely sorted by codepoint); the different groups will be separated by '/'. See examples and \"Example Tests\".\n",
    "\n",
    "Hopefully other examples can make this clearer."
   ]
  },
  {
   "cell_type": "markdown",
   "metadata": {},
   "source": [
    "s1 = \"my&friend&Paul has heavy hats! &\"  \n",
    "s2 = \"my friend John has many many friends &\"  \n",
    "mix(s1, s2) --> \"2:nnnnn/1:aaaa/1:hhh/2:mmm/2:yyy/2:dd/2:ff/2:ii/2:rr/=:ee/=:ss\"  \n",
    "\n",
    "s1 = \"mmmmm m nnnnn y&friend&Paul has heavy hats! &\"  \n",
    "s2 = \"my frie n d Joh n has ma n y ma n y frie n ds n&\"  \n",
    "mix(s1, s2) --> \"1:mmmmmm/=:nnnnnn/1:aaaa/1:hhh/2:yyy/2:dd/2:ff/2:ii/2:rr/=:ee/=:ss\"  \n",
    "\n",
    "s1=\"Are the kids at home? aaaaa fffff\"  \n",
    "s2=\"Yes they are here! aaaaa fffff\"  \n",
    "mix(s1, s2) --> \"=:aaaaaa/2:eeeee/=:fffff/1:tt/2:rr/=:hh\""
   ]
  },
  {
   "cell_type": "code",
   "execution_count": 21,
   "metadata": {},
   "outputs": [],
   "source": [
    "import pandas as pd"
   ]
  },
  {
   "cell_type": "code",
   "execution_count": 10,
   "metadata": {},
   "outputs": [],
   "source": [
    "alphabet = 'abcdefghijklmnopqrstuvwxyz'"
   ]
  },
  {
   "cell_type": "code",
   "execution_count": 11,
   "metadata": {},
   "outputs": [],
   "source": [
    "#test strings\n",
    "s1 = \"my&friend&Paul has heavy hats! &\"\n",
    "s2 = \"my friend John has many many friends &\""
   ]
  },
  {
   "cell_type": "code",
   "execution_count": 80,
   "metadata": {},
   "outputs": [],
   "source": [
    "s1_scores_dict = {alphabet[i]: s1.count(alphabet[i]) for i in range(26) if s1.count(alphabet[i]) > 1 }\n",
    "\n",
    "s2_scores_dict = {alphabet[i]: s2.count(alphabet[i]) for i in range(26) if s2.count(alphabet[i]) > 1 }\n"
   ]
  },
  {
   "cell_type": "code",
   "execution_count": 103,
   "metadata": {},
   "outputs": [
    {
     "data": {
      "text/plain": [
       "{'a': 3,\n",
       " 'd': 2,\n",
       " 'e': 2,\n",
       " 'f': 2,\n",
       " 'h': 2,\n",
       " 'i': 2,\n",
       " 'm': 3,\n",
       " 'n': 5,\n",
       " 'r': 2,\n",
       " 's': 2,\n",
       " 'y': 3}"
      ]
     },
     "execution_count": 103,
     "metadata": {},
     "output_type": "execute_result"
    }
   ],
   "source": [
    "s2_scores_dict"
   ]
  },
  {
   "cell_type": "code",
   "execution_count": 137,
   "metadata": {},
   "outputs": [
    {
     "data": {
      "text/plain": [
       "'2:nnnnn/1:aaaa/1:hhh/2:aaa/2:mmm/2:yyy/=:ee/=:ss'"
      ]
     },
     "execution_count": 137,
     "metadata": {},
     "output_type": "execute_result"
    }
   ],
   "source": [
    "maxletters = max(max(s1_scores_dict.values()), max(s2_scores_dict.values()))\n",
    "sames_dict ={k: s1_scores_dict[k] for k in s1_scores_dict.keys() if s1_scores_dict[k] == s2_scores_dict[k]}\n",
    "output_list = []\n",
    "for i in range(maxletters, 1, -1):\n",
    "\n",
    "    if i in sames_dict.values():\n",
    "        [output_list.append('=:' + str(i*key) + '/') for key in sames_dict if sames_dict[key] == i]\n",
    "    else:\n",
    "        [output_list.append('1:' + str(i*key) + '/') for key in s1_scores_dict if s1_scores_dict[key] == i]\n",
    "        [output_list.append('2:' + str(i*key) + '/') for key in s2_scores_dict if s2_scores_dict[key] == i]\n",
    "          \n",
    "''.join(output_list)[:-1]"
   ]
  },
  {
   "cell_type": "code",
   "execution_count": 203,
   "metadata": {},
   "outputs": [],
   "source": [
    "def mix(s1,s2):\n",
    "    s1 = s1\n",
    "    s2 = s2\n",
    "    alphabet = 'abcdefghijklmnopqrstuvwxyz'\n",
    "    s1_scores_dict = {alphabet[i]: s1.count(alphabet[i]) for i in range(26) if s1.count(alphabet[i]) > 1 }\n",
    "    s2_scores_dict = {alphabet[i]: s2.count(alphabet[i]) for i in range(26) if s2.count(alphabet[i]) > 1 }\n",
    "    sames_dict = {k: s1_scores_dict[k] for k in s1_scores_dict.keys() if k in s2_scores_dict and  s1_scores_dict[k] == s2_scores_dict[k]}\n",
    "    \n",
    "    sames_dict[0] = s1_scores_dict[0] = s2_scores_dict[0] = 0\n",
    "    \n",
    "    output_list = []\n",
    "\n",
    "    for i in range(max(max(sames_dict.values()), max(s1_scores_dict.values()), max(s2_scores_dict.values())), 0, -1):\n",
    "        [output_list.append('1:' + str(i*key) + '/') for key in s1_scores_dict if s1_scores_dict[key] == i and key not in sames_dict.keys()]\n",
    "        [output_list.append('2:' + str(i*key) + '/') for key in s2_scores_dict if s2_scores_dict[key] == i and key not in sames_dict.keys()]\n",
    "\n",
    "        if i in sames_dict.values():\n",
    "            [output_list.append('=:' + str(i*key) + '/') for key in sames_dict if sames_dict[key] == i]\n",
    "        \n",
    "    \n",
    "    return ''.join(output_list)[:-1]"
   ]
  },
  {
   "cell_type": "code",
   "execution_count": 154,
   "metadata": {},
   "outputs": [
    {
     "data": {
      "text/plain": [
       "{'g': 2, 'n': 3}"
      ]
     },
     "execution_count": 154,
     "metadata": {},
     "output_type": "execute_result"
    }
   ],
   "source": [
    "sames_dict = {k: s1_scores_dict[k] for k in s1_scores_dict.keys() if k in s2_scores_dict and  s1_scores_dict[k] == s2_scores_dict[k]}\n",
    "sames_dict\n"
   ]
  },
  {
   "cell_type": "code",
   "execution_count": 204,
   "metadata": {},
   "outputs": [
    {
     "data": {
      "text/plain": [
       "'1:aaa/1:nnn/1:gg/2:aa/2:ee/2:ff/2:ii/2:nn/2:oo/2:rr/2:ss/2:tt'"
      ]
     },
     "execution_count": 204,
     "metadata": {},
     "output_type": "execute_result"
    }
   ],
   "source": [
    "mix(\" In many languages\", \" there's a pair of functions\")"
   ]
  },
  {
   "cell_type": "code",
   "execution_count": 192,
   "metadata": {},
   "outputs": [],
   "source": [
    "#1:aaa/1:nnn/1:gg/2:ee/2:ff/2:ii/2:oo/2:rr/2:ss/2:tt\"\n",
    "#1:aaa/1:nnn/1:gg/2:aa/2:ee/2:ff/2:ii/2:nn/2:oo/2:rr/2:ss/2:tt'"
   ]
  },
  {
   "cell_type": "code",
   "execution_count": null,
   "metadata": {},
   "outputs": [],
   "source": [
    "#So initially misread this problem which has led to some issues.\n",
    "\n",
    "#This function only wants one title header per combination\n",
    "# and if a particular letter shows up more in one initial string than the other, \n",
    "# it should only be headed with the first string"
   ]
  },
  {
   "cell_type": "code",
   "execution_count": 12,
   "metadata": {},
   "outputs": [],
   "source": [
    "alphabet = 'abcdefghijklmnopqrstuvwxyz'\n",
    "def mix(s1, s2):\n",
    "    alpha_dict = {}\n",
    "    for letter in alphabet:\n",
    "        if max(s1.count(letter), s2.count(letter), 0) == 0:\n",
    "            alpha_dict[letter] = 0\n",
    "        elif s1.count(letter) == s2.count(letter):\n",
    "            alpha_dict[letter] = ':=' + str(s1.count(letter)*letter) + '/'\n",
    "        elif s1.count(letter) > s2.count(letter):\n",
    "            alpha_dict[letter] = '1:' + str(s1.count(letter)*letter) + '/'\n",
    "        else:\n",
    "            alpha_dict[letter] = '2:' + str(s2.count(letter)*letter) + '/'\n",
    "    return ''.join(sorted([i for i in alpha_dict.values() if len(str(i))>4], \n",
    "                   key = (lambda x: len(x) + .5*('1' in x)-.5*('=' in x)), reverse=True)\n",
    "           )[:-1]\n",
    "#\"1:aaa/1:nnn/1:gg/2:ee/2:ff/2:ii/2:oo/2:rr/2:ss/2:tt\""
   ]
  },
  {
   "cell_type": "code",
   "execution_count": 13,
   "metadata": {},
   "outputs": [
    {
     "data": {
      "text/plain": [
       "'2:eeeee/2:yy/:=hh/:=rr'"
      ]
     },
     "execution_count": 13,
     "metadata": {},
     "output_type": "execute_result"
    }
   ],
   "source": [
    "mix(\"Are they here\", \"yes, they are here\")\n",
    "#2:eeeee/2:yy/=:hh/=:rr\n"
   ]
  },
  {
   "cell_type": "code",
   "execution_count": null,
   "metadata": {},
   "outputs": [],
   "source": [
    "#I have no idea why this is so literal, or what needs to be going on in order to get these\n",
    "#letters in the exact right right suborder. nothing is consistent the way i'm doing it. "
   ]
  },
  {
   "cell_type": "code",
   "execution_count": 86,
   "metadata": {},
   "outputs": [],
   "source": [
    "def wave(some_string):\n",
    "    str_list = list(some_string)\n",
    "    output_list = []\n",
    "    try: \n",
    "        start_index =  [i for i in range(len(some_string)) if some_string[i].upper() == some_string[i]][0]\n",
    "    except: start_index = 0\n",
    "    output_list.append(some_string)\n",
    "    for i in range(start_index, len(some_string)-1):\n",
    "        str_list[i] = str_list[i].lower()\n",
    "        str_list[i+1] = str_list[i+1].upper()\n",
    "        \n",
    "        output_list.append(''.join(str_list))\n",
    "    return output_list\n"
   ]
  },
  {
   "cell_type": "code",
   "execution_count": 90,
   "metadata": {},
   "outputs": [
    {
     "data": {
      "text/plain": [
       "True"
      ]
     },
     "execution_count": 90,
     "metadata": {},
     "output_type": "execute_result"
    }
   ],
   "source": [
    "wave('Hello') == [\"Hello\", \"hEllo\", \"heLlo\", \"helLo\", \"hellO\"]"
   ]
  },
  {
   "cell_type": "code",
   "execution_count": 88,
   "metadata": {},
   "outputs": [],
   "source": [
    "a = list('hEllo')\n",
    "a[1] = a[1].lower()\n",
    "a[2] = a[2].upper()"
   ]
  },
  {
   "cell_type": "code",
   "execution_count": 32,
   "metadata": {},
   "outputs": [
    {
     "data": {
      "text/plain": [
       "'heLlo'"
      ]
     },
     "execution_count": 32,
     "metadata": {},
     "output_type": "execute_result"
    }
   ],
   "source": [
    "''.join(a)"
   ]
  },
  {
   "cell_type": "code",
   "execution_count": null,
   "metadata": {},
   "outputs": [],
   "source": []
  }
 ],
 "metadata": {
  "kernelspec": {
   "display_name": "Python 3",
   "language": "python",
   "name": "python3"
  },
  "language_info": {
   "codemirror_mode": {
    "name": "ipython",
    "version": 3
   },
   "file_extension": ".py",
   "mimetype": "text/x-python",
   "name": "python",
   "nbconvert_exporter": "python",
   "pygments_lexer": "ipython3",
   "version": "3.6.5"
  }
 },
 "nbformat": 4,
 "nbformat_minor": 2
}
