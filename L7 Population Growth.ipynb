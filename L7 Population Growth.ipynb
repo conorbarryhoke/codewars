{
 "cells": [
  {
   "cell_type": "markdown",
   "metadata": {},
   "source": [
    "In a small town the population is p0 = 1000 at the beginning of a year. The population regularly increases by 2 percent per year and moreover 50 new inhabitants per year come to live in the town. How many years does the town need to see its population greater or equal to p = 1200 inhabitants?"
   ]
  },
  {
   "cell_type": "markdown",
   "metadata": {},
   "source": [
    "More generally given parameters:\n",
    "\n",
    "p0, percent, aug (inhabitants coming or leaving each year), p (population to surpass)\n",
    "\n",
    "the function nb_year should return n number of entire years needed to get a population greater or equal to p.\n",
    "\n",
    "aug is an integer, percent a positive or null number, p0 and p are positive integers (> 0)\n",
    "\n",
    "Examples:\n",
    "nb_year(1500, 5, 100, 5000) -> 15\n",
    "nb_year(1500000, 2.5, 10000, 2000000) -> 10\n",
    "Note: Don't forget to convert the percent parameter as a percentage in the body of your function: if the parameter percent is 2 you have to convert it to 0.02."
   ]
  },
  {
   "cell_type": "code",
   "execution_count": 10,
   "metadata": {},
   "outputs": [
    {
     "name": "stdout",
     "output_type": "stream",
     "text": [
      "1 1070\n",
      "2 1141\n",
      "3 1213\n"
     ]
    },
    {
     "data": {
      "text/plain": [
       "3"
      ]
     },
     "execution_count": 10,
     "metadata": {},
     "output_type": "execute_result"
    }
   ],
   "source": [
    "#initial check:\n",
    "\n",
    "p0 = 1000         #initial population\n",
    "percent = .02  #annual percentage growth\n",
    "aug = 50      #external growth rate, i.e. new people per year\n",
    "p = 1200      #target population\n",
    "\n",
    "cur_pop = p0       #current population\n",
    "year = 0\n",
    "while cur_pop <= p:\n",
    "    year += 1\n",
    "    cur_pop = int(cur_pop *(1 + percent) + aug)\n",
    "    print(year, cur_pop)\n",
    "year\n",
    "    \n",
    "\n",
    "\n"
   ]
  },
  {
   "cell_type": "code",
   "execution_count": 39,
   "metadata": {},
   "outputs": [],
   "source": [
    "import math\n",
    "def nb_year(p0, percent, aug, p):\n",
    "    cur_pop = p0    #initiliaze function with base paramaters so they can be updated later without confusion\n",
    "    year = 0        #start count from 0\n",
    "    while cur_pop <= p:       #continue counting up years until \n",
    "        year += 1\n",
    "        cur_pop = math.floor(cur_pop *(1 + percent/100) + aug)+1    #edge case forms due to rounding discrepancy\n",
    "    return year\n",
    "\n",
    "        "
   ]
  },
  {
   "cell_type": "markdown",
   "metadata": {},
   "source": [
    "Tests;  \n",
    "(nb_year(1500, 5, 100, 5000) return 15;  \n",
    "(nb_year(1500000, 2.5, 10000, 2000000) return 10;  \n",
    "(nb_year(1500000, 0.25, 1000, 2000000) return 94"
   ]
  },
  {
   "cell_type": "code",
   "execution_count": 40,
   "metadata": {},
   "outputs": [
    {
     "data": {
      "text/plain": [
       "94"
      ]
     },
     "execution_count": 40,
     "metadata": {},
     "output_type": "execute_result"
    }
   ],
   "source": [
    "nb_year(1500000, 0.25, 1000, 2000000)"
   ]
  }
 ],
 "metadata": {
  "kernelspec": {
   "display_name": "Python 3",
   "language": "python",
   "name": "python3"
  },
  "language_info": {
   "codemirror_mode": {
    "name": "ipython",
    "version": 3
   },
   "file_extension": ".py",
   "mimetype": "text/x-python",
   "name": "python",
   "nbconvert_exporter": "python",
   "pygments_lexer": "ipython3",
   "version": "3.6.5"
  }
 },
 "nbformat": 4,
 "nbformat_minor": 2
}
